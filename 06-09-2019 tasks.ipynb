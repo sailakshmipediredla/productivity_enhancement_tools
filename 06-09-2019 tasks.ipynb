{
 "cells": [
  {
   "cell_type": "markdown",
   "metadata": {},
   "source": [
    "## 1.Write a Python Program to largest of three given numbers (using input statement)"
   ]
  },
  {
   "cell_type": "markdown",
   "metadata": {},
   "source": [
    "### solution:"
   ]
  },
  {
   "cell_type": "code",
   "execution_count": 5,
   "metadata": {},
   "outputs": [
    {
     "name": "stdout",
     "output_type": "stream",
     "text": [
      "enter the first number: 31\n",
      "enter the second number: 75\n",
      "enter the third number: 21\n",
      "75 is the largest number\n"
     ]
    }
   ],
   "source": [
    "a = int(input(\"enter the first number: \"))\n",
    "b = int(input(\"enter the second number: \"))\n",
    "c = int(input(\"enter the third number: \"))\n",
    "if a>b:\n",
    "    if a>c:\n",
    "        print(a, \"is the largest number\")\n",
    "if b>c:\n",
    "    print(b, \"is the largest number\")\n",
    "else:\n",
    "    print(c, \"is the largest number\")"
   ]
  },
  {
   "cell_type": "markdown",
   "metadata": {},
   "source": [
    "## Write a python program to find the given number(N) in given range(lower bound-upper bound)"
   ]
  },
  {
   "cell_type": "markdown",
   "metadata": {},
   "source": [
    "### solution:"
   ]
  },
  {
   "cell_type": "code",
   "execution_count": 3,
   "metadata": {},
   "outputs": [
    {
     "name": "stdout",
     "output_type": "stream",
     "text": [
      "enter lower bound number10\n",
      "enter upper bound number 20\n",
      "enter a number15\n",
      "it is in the range\n"
     ]
    }
   ],
   "source": [
    "a = int(input(\"enter lower bound number\"))\n",
    "b = int(input(\"enter upper bound number \"))\n",
    "c = int(input(\"enter a number\"))\n",
    "if a > c:\n",
    "    print(\"it is not in the range\")\n",
    "if a < c:\n",
    "    if c < b:\n",
    "        print(\"it is in the range\")\n",
    "    else:\n",
    "        print(\"it is not in the range\")"
   ]
  }
 ],
 "metadata": {
  "kernelspec": {
   "display_name": "Python 3",
   "language": "python",
   "name": "python3"
  },
  "language_info": {
   "codemirror_mode": {
    "name": "ipython",
    "version": 3
   },
   "file_extension": ".py",
   "mimetype": "text/x-python",
   "name": "python",
   "nbconvert_exporter": "python",
   "pygments_lexer": "ipython3",
   "version": "3.7.3"
  }
 },
 "nbformat": 4,
 "nbformat_minor": 2
}
