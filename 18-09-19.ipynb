{
 "cells": [
  {
   "cell_type": "markdown",
   "metadata": {},
   "source": [
    "## Iterators"
   ]
  },
  {
   "cell_type": "markdown",
   "metadata": {},
   "source": [
    "- is an object that contains no of elements.\n",
    "- they have two methods\"_iter_\"and\"_next_\".\n",
    "- lists,tuples,dictionaries,and sets are all iterable objects"
   ]
  },
  {
   "cell_type": "code",
   "execution_count": 1,
   "metadata": {},
   "outputs": [
    {
     "name": "stdout",
     "output_type": "stream",
     "text": [
      "p\n",
      "y\n"
     ]
    }
   ],
   "source": [
    "it = iter('python')\n",
    "print(next(it))\n",
    "print(next(it))"
   ]
  },
  {
   "cell_type": "markdown",
   "metadata": {},
   "source": [
    "- Given list contains the courses like c,c++,python,print all courses\n",
    "- line by line using iter()and next() functions in iterator. "
   ]
  },
  {
   "cell_type": "code",
   "execution_count": 2,
   "metadata": {},
   "outputs": [
    {
     "name": "stdout",
     "output_type": "stream",
     "text": [
      "c\n",
      "c++\n",
      "python\n"
     ]
    }
   ],
   "source": [
    "course = ['c','c++','python']\n",
    "result = iter(course)\n",
    "print(next(result))\n",
    "print(next(result))\n",
    "print(next(result))"
   ]
  },
  {
   "cell_type": "markdown",
   "metadata": {},
   "source": [
    "## Generators"
   ]
  },
  {
   "cell_type": "markdown",
   "metadata": {},
   "source": [
    "- Generator is a function that returns iterators and objects.\n",
    "- Generators uses \"yield\" instead of \"return\"."
   ]
  },
  {
   "cell_type": "code",
   "execution_count": 3,
   "metadata": {},
   "outputs": [
    {
     "name": "stdout",
     "output_type": "stream",
     "text": [
      "1\n",
      "2\n",
      "3\n"
     ]
    }
   ],
   "source": [
    "def generatorFunction():\n",
    "    yield 1\n",
    "    yield 2\n",
    "    yield 3\n",
    "for value in generatorFunction():\n",
    "    print(value)"
   ]
  },
  {
   "cell_type": "markdown",
   "metadata": {},
   "source": [
    "- function to print square of each number until reaches the upper bound range using Generators function [i.e., range(5)->2^2=4,4^2=16,16^2...]"
   ]
  },
  {
   "cell_type": "code",
   "execution_count": 4,
   "metadata": {},
   "outputs": [
    {
     "name": "stdout",
     "output_type": "stream",
     "text": [
      "4\n",
      "16\n",
      "256\n",
      "65536\n",
      "4294967296\n"
     ]
    }
   ],
   "source": [
    "def gen():\n",
    "    n=2\n",
    "    while True:\n",
    "        n **= 2\n",
    "        yield n\n",
    "a = gen()\n",
    "for i in range(5):\n",
    "    print(next(a))"
   ]
  },
  {
   "cell_type": "markdown",
   "metadata": {},
   "source": [
    "## Maps in python "
   ]
  },
  {
   "cell_type": "markdown",
   "metadata": {},
   "source": [
    "- it produces a list of results that it apply given function to each item of a given iterable(list,tuple,sets etc..)\n",
    "- Syntax:map(function, iterable)"
   ]
  },
  {
   "cell_type": "code",
   "execution_count": 5,
   "metadata": {},
   "outputs": [
    {
     "name": "stdout",
     "output_type": "stream",
     "text": [
      "[2, 4, 6, 8]\n"
     ]
    }
   ],
   "source": [
    "def addition(n):\n",
    "    return n + n\n",
    "#1+1=2,2+2=4\n",
    "result = list(map(addition,range(1,5)))\n",
    "print(result)"
   ]
  },
  {
   "cell_type": "code",
   "execution_count": 6,
   "metadata": {},
   "outputs": [
    {
     "name": "stdout",
     "output_type": "stream",
     "text": [
      "{16, 1, 4, 9}\n"
     ]
    }
   ],
   "source": [
    "# Function to print squares of numbers in given range between 1 to 5\n",
    "def squareOfNumb(n):\n",
    "    return n*n\n",
    "result = set(map(squareOfNumb,range(1,5)))\n",
    "print(result)"
   ]
  },
  {
   "cell_type": "markdown",
   "metadata": {},
   "source": [
    "## Filters in python"
   ]
  },
  {
   "cell_type": "markdown",
   "metadata": {},
   "source": [
    "- Filters function in python used to check whether given element is boolean or not(True or Flase)\n",
    "- Syntax: f:x:->{T,F}"
   ]
  },
  {
   "cell_type": "markdown",
   "metadata": {},
   "source": [
    "- task: Given list have alphanumeric values.check whether it is digit or alpahabet and print all athe digits.Explanation:Li=[1,2,'a','b',3]. \"Filter\" checks elememts in \"Li\" and it will print the result if condition is \"True\"(1->True,2->True,'a'->False) "
   ]
  },
  {
   "cell_type": "code",
   "execution_count": 7,
   "metadata": {},
   "outputs": [
    {
     "data": {
      "text/plain": [
       "[1, 2, 3]"
      ]
     },
     "execution_count": 7,
     "metadata": {},
     "output_type": "execute_result"
    }
   ],
   "source": [
    "li = [1,2,'a','b','c',3]\n",
    "def isDigit(c):\n",
    "    c = str(c)\n",
    "    if c.isdigit():\n",
    "        return True\n",
    "    return False\n",
    "isDigit('a')\n",
    "list(filter(isDigit,li))"
   ]
  },
  {
   "cell_type": "markdown",
   "metadata": {},
   "source": [
    "- Task:print all prime numbers for a given range using filter() function."
   ]
  },
  {
   "cell_type": "code",
   "execution_count": 8,
   "metadata": {},
   "outputs": [
    {
     "name": "stdout",
     "output_type": "stream",
     "text": [
      "[503, 509, 521, 523, 541, 547, 557, 563, 569, 571, 577, 587, 593, 599]\n"
     ]
    }
   ],
   "source": [
    "def checkPrime(n):\n",
    "    if n<2:\n",
    "        return False\n",
    "    for i in range(2,n//2 + 1):\n",
    "        if n%i == 0:\n",
    "            return False\n",
    "    return True\n",
    "lb,ub = 500,600\n",
    "primeList = list(filter(checkPrime,range(lb,ub)))\n",
    "print(primeList)"
   ]
  },
  {
   "cell_type": "markdown",
   "metadata": {},
   "source": [
    "## lambdas in python"
   ]
  },
  {
   "cell_type": "markdown",
   "metadata": {},
   "source": [
    "- python lambda is just a function without a name or anonymous function.\n",
    "- Syntax:lambda argument:expression Lanbda x;x^3(x->argument,x^3->expression)\n",
    "  Note:Lambda takes 0 or more argumemts but only expression.\n",
    "    Ex:lambda x,y:x+y"
   ]
  },
  {
   "cell_type": "code",
   "execution_count": 9,
   "metadata": {},
   "outputs": [
    {
     "data": {
      "text/plain": [
       "64"
      ]
     },
     "execution_count": 9,
     "metadata": {},
     "output_type": "execute_result"
    }
   ],
   "source": [
    "def cube(n):\n",
    "    return n ** 3\n",
    "result = lambda n:n**3\n",
    "result(4)"
   ]
  },
  {
   "cell_type": "code",
   "execution_count": 10,
   "metadata": {},
   "outputs": [
    {
     "data": {
      "text/plain": [
       "64"
      ]
     },
     "execution_count": 10,
     "metadata": {},
     "output_type": "execute_result"
    }
   ],
   "source": [
    "result = lambda x:x**3\n",
    "result(4)"
   ]
  },
  {
   "cell_type": "markdown",
   "metadata": {},
   "source": [
    "- Example\n",
    "- Example for Lambda Inline program\n",
    "- Note:Lambda is not iterable.so by using map() or filter() functions we can write a program which is iterable.\n",
    "- Write a puython program to print cubes of 1 to 6 numbers without using loops."
   ]
  },
  {
   "cell_type": "code",
   "execution_count": 11,
   "metadata": {},
   "outputs": [
    {
     "data": {
      "text/plain": [
       "[1, 8, 27, 64, 125, 216]"
      ]
     },
     "execution_count": 11,
     "metadata": {},
     "output_type": "execute_result"
    }
   ],
   "source": [
    "list(map(lambda x:x**3,[1,2,3,4,5,6]))"
   ]
  },
  {
   "cell_type": "markdown",
   "metadata": {},
   "source": [
    "- print all even number in the range between 20 to 40 using Lambda function"
   ]
  },
  {
   "cell_type": "code",
   "execution_count": 12,
   "metadata": {},
   "outputs": [
    {
     "name": "stdout",
     "output_type": "stream",
     "text": [
      "[20, 22, 24, 26, 28, 30, 32, 34, 36, 38]\n"
     ]
    }
   ],
   "source": [
    "even = lambda x:x%2 == 0\n",
    "result = list(filter(even,range(20,40)))\n",
    "print(result)"
   ]
  },
  {
   "cell_type": "markdown",
   "metadata": {},
   "source": [
    "- Applying Functional programming to the Marks Analysis Application and Average and finding Average of class.(Refer File Handling and Packages Topics for better understanding)"
   ]
  },
  {
   "cell_type": "code",
   "execution_count": 13,
   "metadata": {},
   "outputs": [],
   "source": [
    "from random import randint\n",
    "def generateMarks(n,lb,ub):\n",
    "    filename = 'DataFiles/marks.txt'\n",
    "    with open(filename,'w') as f:\n",
    "        for i in range(n):\n",
    "            marks = randint(lb,ub)\n",
    "            f.write(str(marks)+'\\n')\n",
    "    return\n",
    "generateMarks(10000,0,100)"
   ]
  },
  {
   "cell_type": "code",
   "execution_count": 14,
   "metadata": {},
   "outputs": [
    {
     "data": {
      "text/plain": [
       "49"
      ]
     },
     "execution_count": 14,
     "metadata": {},
     "output_type": "execute_result"
    }
   ],
   "source": [
    "# Class Average\n",
    "def readMarkslist(filepath):\n",
    "    with open(filepath,'r') as f:\n",
    "        filedata = f.read().split()\n",
    "    return list(map(int,filedata))\n",
    "def classAverage(filepath):\n",
    "    markslist = readMarkslist(filepath)\n",
    "    return sum(markslist)//len(markslist)\n",
    "filepath = 'DataFiles/marks.txt'\n",
    "classAverage(filepath)"
   ]
  },
  {
   "cell_type": "markdown",
   "metadata": {},
   "source": [
    "- Find the percentage of Distinction, pass and fail using \"Lambda\" and \"Filter\" function  \n"
   ]
  },
  {
   "cell_type": "code",
   "execution_count": 17,
   "metadata": {},
   "outputs": [
    {
     "data": {
      "text/plain": [
       "39.910000000000004"
      ]
     },
     "execution_count": 17,
     "metadata": {},
     "output_type": "execute_result"
    }
   ],
   "source": [
    "def percentageFailed(filepath):\n",
    "    markslist = readMarkslist(filepath)\n",
    "    failedcount = len(list(filter(lambda mark:mark < 40,markslist)))\n",
    "    return (failedcount/len(markslist))*100\n",
    "percentageFailed(filepath)"
   ]
  },
  {
   "cell_type": "code",
   "execution_count": 18,
   "metadata": {},
   "outputs": [
    {
     "data": {
      "text/plain": [
       "60.089999999999996"
      ]
     },
     "execution_count": 18,
     "metadata": {},
     "output_type": "execute_result"
    }
   ],
   "source": [
    "def percentagePassed(filepath):\n",
    "    return 100 - percentageFailed(filepath)\n",
    "percentagePassed(filepath)\n"
   ]
  },
  {
   "cell_type": "code",
   "execution_count": 19,
   "metadata": {},
   "outputs": [
    {
     "data": {
      "text/plain": [
       "29.659999999999997"
      ]
     },
     "execution_count": 19,
     "metadata": {},
     "output_type": "execute_result"
    }
   ],
   "source": [
    "def percentageDistinction(filepath):\n",
    "    markslist = readMarkslist(filepath)\n",
    "    distinctioncount = len(list(filter(lambda mark:mark > 70,markslist)))\n",
    "    return (distinctioncount/len(markslist))*100\n",
    "percentageDistinction(filepath)"
   ]
  },
  {
   "cell_type": "markdown",
   "metadata": {},
   "source": [
    "- Given two lists contains the names of scientists.list 1 have First Name of scientist and List 2 have Last Name.Write a program to print single list that should contains Full Name of all scientists names and First letter must be Capital."
   ]
  },
  {
   "cell_type": "code",
   "execution_count": 20,
   "metadata": {},
   "outputs": [
    {
     "name": "stdout",
     "output_type": "stream",
     "text": [
      "['Krishna Sai', 'James Ram', 'Mahesh Kumar']\n"
     ]
    }
   ],
   "source": [
    "names1 = ['krishna','james','mahesh']\n",
    "names2 = ['sai','ram','kumar']\n",
    "result = lambda x,y :x[0].upper() +x[1:] + ' ' +y[0].upper() + y[1:]\n",
    "print(list(map(result,names1,names2)))\n"
   ]
  },
  {
   "cell_type": "code",
   "execution_count": null,
   "metadata": {},
   "outputs": [],
   "source": []
  },
  {
   "cell_type": "code",
   "execution_count": null,
   "metadata": {},
   "outputs": [],
   "source": []
  },
  {
   "cell_type": "code",
   "execution_count": null,
   "metadata": {},
   "outputs": [],
   "source": []
  }
 ],
 "metadata": {
  "kernelspec": {
   "display_name": "Python 3",
   "language": "python",
   "name": "python3"
  },
  "language_info": {
   "codemirror_mode": {
    "name": "ipython",
    "version": 3
   },
   "file_extension": ".py",
   "mimetype": "text/x-python",
   "name": "python",
   "nbconvert_exporter": "python",
   "pygments_lexer": "ipython3",
   "version": "3.7.3"
  }
 },
 "nbformat": 4,
 "nbformat_minor": 2
}
